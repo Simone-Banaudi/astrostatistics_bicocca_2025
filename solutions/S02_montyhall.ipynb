{
 "cells": [
  {
   "cell_type": "code",
   "execution_count": 12,
   "metadata": {},
   "outputs": [],
   "source": [
    "import numpy as np\n",
    "from tqdm.notebook import tqdm\n",
    "import pylab as plt\n",
    "plt.rcParams['figure.figsize'] = [8, 5]"
   ]
  },
  {
   "cell_type": "markdown",
   "metadata": {},
   "source": [
    "# Monty Hall problem"
   ]
  },
  {
   "cell_type": "code",
   "execution_count": null,
   "metadata": {},
   "outputs": [],
   "source": [
    "def threedoors(which):\n",
    "\n",
    "    labels = np.arange(3) # Labels of the three doors\n",
    "    doors = np.zeros(3,dtype=int) # Content of three doors\n",
    "    doors[np.random.choice(labels)] = 1 # One of them contains the prize, don't know which one (1=car, 0=goat)\n",
    "    choice = np.random.choice(labels) # I pick one door\n",
    "    notchosen = np.delete(labels,choice) # These are the remaining doors \n",
    "\n",
    "    while True: # simulate host (2 player) that open a door with goat\n",
    "        opened = np.random.choice(notchosen) #One door is opened (one of the ones I didn't choose)\n",
    "        if doors[opened]==0: # But it's never the winning door (repeat so that he chooses the door with the goat)\n",
    "            other = int(np.delete(labels,[opened,choice])[0]) # This is the other door left (not chosen by me and not open by host)\n",
    "            break\n",
    "    \n",
    "    \n",
    "    if which == 'switch': # Do you switch? If yes, return content of the other door \n",
    "        return doors[other]\n",
    "\n",
    "    elif which == 'keep': # If not, return content of the one you picked initially\n",
    "        return doors[choice]\n",
    " \n",
    "    elif which == 'external': # A third guy picks randomly between the two remaining doors\n",
    "        picked = np.random.choice([choice,other])\n",
    "        return doors[picked]\n",
    "    "
   ]
  },
  {
   "cell_type": "code",
   "execution_count": 32,
   "metadata": {},
   "outputs": [
    {
     "data": {
      "application/vnd.jupyter.widget-view+json": {
       "model_id": "7037823e4310458486e5ecc1bd1152f0",
       "version_major": 2,
       "version_minor": 0
      },
      "text/plain": [
       "  0%|          | 0/3 [00:00<?, ?it/s]"
      ]
     },
     "metadata": {},
     "output_type": "display_data"
    },
    {
     "data": {
      "application/vnd.jupyter.widget-view+json": {
       "model_id": "198ab9e136af48ca818871be9df9a4c4",
       "version_major": 2,
       "version_minor": 0
      },
      "text/plain": [
       "  0%|          | 0/10000 [00:00<?, ?it/s]"
      ]
     },
     "metadata": {},
     "output_type": "display_data"
    },
    {
     "data": {
      "application/vnd.jupyter.widget-view+json": {
       "model_id": "e7b55d842b7742c19111c7c8cd055a7b",
       "version_major": 2,
       "version_minor": 0
      },
      "text/plain": [
       "  0%|          | 0/10000 [00:00<?, ?it/s]"
      ]
     },
     "metadata": {},
     "output_type": "display_data"
    },
    {
     "data": {
      "application/vnd.jupyter.widget-view+json": {
       "model_id": "944d7ff898ed492d883715789ee93f86",
       "version_major": 2,
       "version_minor": 0
      },
      "text/plain": [
       "  0%|          | 0/10000 [00:00<?, ?it/s]"
      ]
     },
     "metadata": {},
     "output_type": "display_data"
    }
   ],
   "source": [
    "N  = int(1e4) # Do this many times\n",
    "probs = {}\n",
    "\n",
    "for which in tqdm(['switch','keep','external']): # Loop for three cases of wich\n",
    "    events = [threedoors(which) for i in tqdm(range(N))] # Runs the function threedoors(which) N times\n",
    "    probs[which] = np.sum(events)/ N # From probability definition\n"
   ]
  },
  {
   "cell_type": "code",
   "execution_count": 33,
   "metadata": {},
   "outputs": [
    {
     "data": {
      "image/png": "[encoded data removed]",
      "text/plain": [
       "<Figure size 800x500 with 1 Axes>"
      ]
     },
     "metadata": {},
     "output_type": "display_data"
    }
   ],
   "source": [
    "# A simple bar chart\n",
    "plt.bar([0,1,2], [probs[k] for k in probs.keys()], color='green');\n",
    "plt.xticks([0,1,2], probs.keys());\n",
    "\n",
    "for y in [1/3,1/2,2/3]: #  Dotted Line\n",
    "    plt.axhline(y, ls='dotted',c='black')"
   ]
  },
  {
   "cell_type": "markdown",
   "metadata": {},
   "source": [
    "### Let's break it down:"
   ]
  },
  {
   "cell_type": "markdown",
   "metadata": {},
   "source": [
    "Before a door is chosen, the probability of finding a car is clearly $1/3$.\n",
    "\n",
    "After one door has been chosen:\n",
    "\n",
    "* Probability of car behind **Door 1** $= 1/3$\n",
    "* Probability of car behind **Doors 2 or 3** $= 2/3$"
   ]
  },
  {
   "cell_type": "markdown",
   "metadata": {},
   "source": [
    "But if the host opens **Door 3** to show a goat, you now have prior information to update your probability of the car being behind **Door 2**. The probability of the car behind **Door 1** is still $1/3$, but the total probability must sum to unity, and you only have **Door 2** left. Hence,\n",
    "\n",
    "* With prior knowledge of **Door 3** containing a goat, the probability of car behind **Door 2** $=2/3$.\n",
    "\n",
    "\n",
    "So, ***switching doubles your chances***. You should always switch!! But only because you had prior information.  \n",
    "\n",
    "If someone walked in after the \"bad\" door was opened, then their probability of winning is the expected 1/number_of_doors=$1/2$."
   ]
  },
  {
   "cell_type": "markdown",
   "metadata": {},
   "source": [
    "### Generalization\n",
    "\n",
    "\n",
    "In the most general case, there are $N$ doors and the presenter opens $p$ of them . In this case, switching wins with probability (see [here](https://en.wikipedia.org/wiki/Monty_Hall_problem))\n",
    "\n",
    "$$\n",
    "p_{\\rm switch} = \\frac{1}{N} \\frac{N-1}{N-p-1}\n",
    "$$\n",
    "which is always greater than $1/N$ (so you should always switch, no matter what). "
   ]
  },
  {
   "cell_type": "code",
   "execution_count": null,
   "metadata": {},
   "outputs": [],
   "source": []
  },
  {
   "cell_type": "code",
   "execution_count": null,
   "metadata": {},
   "outputs": [],
   "source": []
  },
  {
   "cell_type": "code",
   "execution_count": null,
   "metadata": {},
   "outputs": [],
   "source": []
  },
  {
   "cell_type": "markdown",
   "metadata": {},
   "source": [
    "# [Optional] Additional exercise if you want to practice: Pdf of the log"
   ]
  },
  {
   "cell_type": "code",
   "execution_count": 16,
   "metadata": {},
   "outputs": [],
   "source": [
    "x=np.random.uniform(0.1,10,10000)"
   ]
  },
  {
   "cell_type": "code",
   "execution_count": 17,
   "metadata": {},
   "outputs": [
    {
     "data": {
      "text/plain": [
       "array([6.38127923, 7.23501013, 1.56232408, ..., 6.93129195, 3.52857739,\n",
       "       9.58408489])"
      ]
     },
     "execution_count": 17,
     "metadata": {},
     "output_type": "execute_result"
    }
   ],
   "source": [
    "x"
   ]
  },
  {
   "cell_type": "code",
   "execution_count": 18,
   "metadata": {},
   "outputs": [
    {
     "data": {
      "image/png": "[encoded data removed]",
      "text/plain": [
       "<Figure size 800x500 with 1 Axes>"
      ]
     },
     "metadata": {},
     "output_type": "display_data"
    }
   ],
   "source": [
    "plt.hist(x,density=True,histtype='step',lw=2);\n",
    "plt.xlabel(\"$x$\");"
   ]
  },
  {
   "cell_type": "code",
   "execution_count": 19,
   "metadata": {},
   "outputs": [
    {
     "data": {
      "image/png": "[encoded data removed]",
      "text/plain": [
       "<Figure size 800x500 with 1 Axes>"
      ]
     },
     "metadata": {},
     "output_type": "display_data"
    }
   ],
   "source": [
    "y=np.log10(x)\n",
    "plt.hist(y,density=True,histtype='step',lw=2);\n",
    "plt.xlabel(\"$y$\");"
   ]
  },
  {
   "cell_type": "markdown",
   "metadata": {},
   "source": [
    "Compute the pdf\n",
    "\n",
    "$y=\\log_{10} x$\n",
    "\n",
    "$x=10^y$\n",
    "\n",
    "$\\frac{dx}{dy} = 10^y \\log(10)$\n",
    "\n",
    "Uniform in x:\n",
    "$p(x) = \\frac{1}{10-0.1}$\n",
    "\n",
    "\n",
    "Therefore $p(y) =10^y \\log(10) /(10-0.1)$\n"
   ]
  },
  {
   "cell_type": "code",
   "execution_count": 20,
   "metadata": {},
   "outputs": [
    {
     "data": {
      "image/png": "[encoded data removed]",
      "text/plain": [
       "<Figure size 800x500 with 1 Axes>"
      ]
     },
     "metadata": {},
     "output_type": "display_data"
    }
   ],
   "source": [
    "ygrid=np.linspace(-1,1,100)\n",
    "pofy = 10**ygrid *np.log(10)/(10-0.1)\n",
    "\n",
    "plt.hist(y,density=True,histtype='step',lw=2);\n",
    "plt.plot(ygrid,pofy);\n",
    "plt.xlabel(\"$y$\");\n"
   ]
  },
  {
   "cell_type": "code",
   "execution_count": 21,
   "metadata": {},
   "outputs": [
    {
     "data": {
      "text/plain": [
       "(0.7050479490684919, 0.5855545661868704)"
      ]
     },
     "execution_count": 21,
     "metadata": {},
     "output_type": "execute_result"
    }
   ],
   "source": [
    "# This changes..\n",
    "np.log10(np.mean(x)), np.mean(y)"
   ]
  },
  {
   "cell_type": "code",
   "execution_count": 22,
   "metadata": {},
   "outputs": [
    {
     "data": {
      "text/plain": [
       "(0.704500944651088, 0.7045009446389179)"
      ]
     },
     "execution_count": 22,
     "metadata": {},
     "output_type": "execute_result"
    }
   ],
   "source": [
    "# But this doesn't!\n",
    "np.log10(np.median(x)), np.median(y)"
   ]
  },
  {
   "cell_type": "code",
   "execution_count": null,
   "metadata": {},
   "outputs": [],
   "source": []
  },
  {
   "cell_type": "code",
   "execution_count": null,
   "metadata": {},
   "outputs": [],
   "source": []
  }
 ],
 "metadata": {
  "kernelspec": {
   "display_name": "base",
   "language": "python",
   "name": "python3"
  },
  "language_info": {
   "codemirror_mode": {
    "name": "ipython",
    "version": 3
   },
   "file_extension": ".py",
   "mimetype": "text/x-python",
   "name": "python",
   "nbconvert_exporter": "python",
   "pygments_lexer": "ipython3",
   "version": "3.12.4"
  }
 },
 "nbformat": 4,
 "nbformat_minor": 4
}
