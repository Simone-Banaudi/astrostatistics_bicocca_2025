{
 "cells": [
  {
   "cell_type": "markdown",
   "metadata": {},
   "source": [
    "# Git utils"
   ]
  },
  {
   "cell_type": "markdown",
   "metadata": {},
   "source": [
    "In order to [sync new lectures from upstream to your fork](https://docs.github.com/en/free-pro-team@latest/github/collaborating-with-issues-and-pull-requests/syncing-a-fork), run the following in the local directory of your cloned fork:\n",
    "\n",
    "```bash\n",
    "git fetch upstream\n",
    "git checkout main\n",
    "git merge upstream/main"
   ]
  },
  {
   "cell_type": "markdown",
   "metadata": {},
   "source": [
    "To sync my work\n",
    "\n",
    "```bash\n",
    "git pull\n",
    "git add .\n",
    "git commit -m \"my_message\"\n",
    "git push\n",
    "```\n",
    "\n",
    "To check the status\n",
    "\n",
    "```bash\n",
    "git status\n",
    "```\n",
    "\n"
   ]
  }
 ],
 "metadata": {
  "language_info": {
   "name": "python"
  }
 },
 "nbformat": 4,
 "nbformat_minor": 2
}
