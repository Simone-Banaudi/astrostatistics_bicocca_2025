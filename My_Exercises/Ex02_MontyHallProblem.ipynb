{
 "cells": [
  {
   "cell_type": "markdown",
   "metadata": {},
   "source": [
    "# Statement of the problem\n",
    "Three door, 2 goat (0), 1 car (1)  \n",
    "Me = i choose a door, I don't open it   \n",
    "2° player = he choose a different one door, he open it  \n",
    "3° player = he choose a door not opened  "
   ]
  },
  {
   "cell_type": "code",
   "execution_count": 8,
   "metadata": {},
   "outputs": [],
   "source": [
    "import numpy as np\n",
    "from tqdm.notebook import tqdm\n",
    "import pylab as plt\n",
    "plt.rcParams['figure.figsize'] = [8, 5]"
   ]
  },
  {
   "cell_type": "code",
   "execution_count": 23,
   "metadata": {},
   "outputs": [],
   "source": [
    "def threedoors(which): # Function of the process\n",
    "    labels = np.arange(3) # Labels of the three doors\n",
    "    doors = np.zeros(3, dtype=int) # Content of three doors\n",
    "    doors[np.random.choice(labels)] = 1 # One of them contains the prize, don't know which one (1=car, 0=goat)\n",
    "    my_choice = np.random.choice(labels) # I pick one random door\n",
    "    notchosen = np.delete(labels, my_choice) # Doors - door that I chose\n",
    "\n",
    "    while True: # 2° player that open a door with goat\n",
    "        opened = np.random.choice(notchosen) # Open one of the two doors I didn't choose\n",
    "        if doors[opened] == 0: # Break only if 2°plyr choose a goat\n",
    "            other = int(np.delete(labels,[opened,my_choice])[0]) # This is the other door left (not chosen by me and not open by host)\n",
    "            break\n",
    "\n",
    "    if which == 'switch': \n",
    "        return doors[other]\n",
    "\n",
    "    if which == 'keep':\n",
    "        return doors[my_choice]\n",
    "    \n",
    "    if which == 'external':\n",
    "        picked = np.random.choice(notchosen)\n",
    "        return doors[picked]\n"
   ]
  },
  {
   "cell_type": "code",
   "execution_count": 24,
   "metadata": {},
   "outputs": [
    {
     "data": {
      "application/vnd.jupyter.widget-view+json": {
       "model_id": "a8131824a89c43d1a3ecb29c7fc16a64",
       "version_major": 2,
       "version_minor": 0
      },
      "text/plain": [
       "  0%|          | 0/3 [00:00<?, ?it/s]"
      ]
     },
     "metadata": {},
     "output_type": "display_data"
    },
    {
     "data": {
      "application/vnd.jupyter.widget-view+json": {
       "model_id": "082b478066864c51adb4ac9510f923d4",
       "version_major": 2,
       "version_minor": 0
      },
      "text/plain": [
       "  0%|          | 0/10000 [00:00<?, ?it/s]"
      ]
     },
     "metadata": {},
     "output_type": "display_data"
    },
    {
     "data": {
      "application/vnd.jupyter.widget-view+json": {
       "model_id": "b06b7c0da34143a0888d9a0823d922eb",
       "version_major": 2,
       "version_minor": 0
      },
      "text/plain": [
       "  0%|          | 0/10000 [00:00<?, ?it/s]"
      ]
     },
     "metadata": {},
     "output_type": "display_data"
    },
    {
     "data": {
      "application/vnd.jupyter.widget-view+json": {
       "model_id": "6144e3ff55f143a9a2b534e58e27d514",
       "version_major": 2,
       "version_minor": 0
      },
      "text/plain": [
       "  0%|          | 0/10000 [00:00<?, ?it/s]"
      ]
     },
     "metadata": {},
     "output_type": "display_data"
    }
   ],
   "source": [
    "N = int(1e4) # Number of iteration\n",
    "probs = {}\n",
    "\n",
    "for which in tqdm(['switch','keep','external']): # Loop for three cases of wich\n",
    "    events = [threedoors(which) for i in tqdm(range(N))] # Loop for fixed wich N times\n",
    "    probs[which] = np.sum(events)/N # From probability definition (remember 1=car)"
   ]
  },
  {
   "cell_type": "code",
   "execution_count": null,
   "metadata": {},
   "outputs": [
    {
     "data": {
      "image/png": "[encoded data removed]",
      "text/plain": [
       "<Figure size 800x500 with 1 Axes>"
      ]
     },
     "metadata": {},
     "output_type": "display_data"
    }
   ],
   "source": [
    "# A simple bar chart\n",
    "plt.bar([0,1,2], [probs[k] for k in probs.keys()], color='green');\n",
    "plt.xticks([0,1,2], probs.keys());\n",
    "\n",
    "for y in [1/3,1/2,2/3]: #  Dotted Line...it's the expected values\n",
    "    plt.axhline(y, ls='dotted',c='black')"
   ]
  },
  {
   "cell_type": "markdown",
   "metadata": {},
   "source": [
    "### Let's break it down:"
   ]
  },
  {
   "cell_type": "markdown",
   "metadata": {},
   "source": [
    "Before a door is chosen, the probability of finding a car is clearly $1/3$.\n",
    "\n",
    "After one door has been chosen:\n",
    "\n",
    "* Probability of car behind **Door 1** $= 1/3$\n",
    "* Probability of car behind **Doors 2 or 3** $= 2/3$"
   ]
  },
  {
   "cell_type": "markdown",
   "metadata": {},
   "source": [
    "Before a door is chosen, the probability of finding a car is clearly $1/3$.\n",
    "\n",
    "After one door has been chosen:\n",
    "\n",
    "* Probability of car behind **Door 1** $= 1/3$\n",
    "* Probability of car behind **Doors 2 or 3** $= 2/3$"
   ]
  }
 ],
 "metadata": {
  "kernelspec": {
   "display_name": "base",
   "language": "python",
   "name": "python3"
  },
  "language_info": {
   "codemirror_mode": {
    "name": "ipython",
    "version": 3
   },
   "file_extension": ".py",
   "mimetype": "text/x-python",
   "name": "python",
   "nbconvert_exporter": "python",
   "pygments_lexer": "ipython3",
   "version": "3.12.3"
  }
 },
 "nbformat": 4,
 "nbformat_minor": 2
}
