{
 "cells": [
  {
   "cell_type": "markdown",
   "metadata": {},
   "source": [
    "# Cloning Quasars"
   ]
  },
  {
   "cell_type": "markdown",
   "metadata": {},
   "source": [
    "Download the SDSS quasar data"
   ]
  },
  {
   "cell_type": "code",
   "execution_count": 3,
   "metadata": {},
   "outputs": [],
   "source": [
    "import numpy as np\n",
    "import scipy.stats\n",
    "import astropy\n",
    "import pylab as plt"
   ]
  },
  {
   "cell_type": "markdown",
   "metadata": {},
   "source": [
    "(vedi sotto)  \n",
    "Oss: \n",
    "Quasars is a a structured NumPy array (like a table, similar to a Pandas DataFrame) where\n",
    "- Each row represents a quasar.\n",
    "- Each column (or field) stores a different property of the quasar, like:\n",
    "    - redshift\n",
    "    - ra (right ascension)\n",
    "    - dec (declination)\n",
    "    - ..."
   ]
  },
  {
   "cell_type": "code",
   "execution_count": 4,
   "metadata": {},
   "outputs": [
    {
     "data": {
      "image/png": "[encoded data removed]",
      "text/plain": [
       "<Figure size 640x480 with 1 Axes>"
      ]
     },
     "metadata": {},
     "output_type": "display_data"
    }
   ],
   "source": [
    "from astroML.datasets import fetch_dr7_quasar\n",
    "\n",
    "# Fetch the quasar data\n",
    "quasars = fetch_dr7_quasar() \n",
    "\n",
    "# select the first 10000 points\n",
    "quasars = quasars[:10000]\n",
    "\n",
    "#select redhsift row\n",
    "data = quasars['redshift']\n",
    "\n",
    "plt.hist(data,bins=50,histtype='step',density=True,label='original data');"
   ]
  },
  {
   "cell_type": "markdown",
   "metadata": {},
   "source": [
    "## Exercise instructions\n",
    "- Upsample this distribution in hopefully two ways (but at least one of them), using both rejection sampling and inverse transform.\n",
    "- Check, at least visually, that the two cloned distribitions are indeed similar to the observed one (for a quantitative check, come back to this point in a few lectures)\n",
    "- Think about the cosmology of quasars. How do you think they are distributed? Overplot the theorethical distribution to the measured SDSS data. Does that agree with your expectation? \n",
    "\n",
    "(Hint: It shouldn't. But why?) "
   ]
  },
  {
   "cell_type": "markdown",
   "metadata": {},
   "source": [
    "The package [astropy](https://www.astropy.org/) contains a ton of useful astro things. For instance, the best-fit cosmological model from the latest Plack data is:"
   ]
  }
 ],
 "metadata": {
  "kernelspec": {
   "display_name": "base",
   "language": "python",
   "name": "python3"
  },
  "language_info": {
   "codemirror_mode": {
    "name": "ipython",
    "version": 3
   },
   "file_extension": ".py",
   "mimetype": "text/x-python",
   "name": "python",
   "nbconvert_exporter": "python",
   "pygments_lexer": "ipython3",
   "version": "3.12.3"
  }
 },
 "nbformat": 4,
 "nbformat_minor": 2
}
