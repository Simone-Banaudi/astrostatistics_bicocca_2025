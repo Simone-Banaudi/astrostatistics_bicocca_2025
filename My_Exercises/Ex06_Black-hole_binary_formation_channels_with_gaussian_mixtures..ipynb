{
 "cells": [
  {
   "cell_type": "markdown",
   "metadata": {},
   "source": [
    "# Black-hole binary formation channels with gaussian mixtures."
   ]
  },
  {
   "cell_type": "markdown",
   "metadata": {},
   "source": [
    "## Theory Introduction\n",
    "Many problems in astrophysics give rise to data with multiple modes. This is typically because different processes physical processes contribute to the observed dataset. \n",
    "\n",
    "For instance, one of the most outstanding question in gravitational-wave astrophysics is the formation channel of binary black holes. Leading scenarions include the evolution of isolated binaries in the galactic field and the dynamica assembly of sources in dense environments like globular clusters.\n",
    "\n",
    "\n",
    "Right now, state-of-the-art analyses seems to say that many channels are all at play. This is a plot by [Zevin et al (2020)](https://arxiv.org/abs/2011.10057)\n",
    "\n",
    "\n",
    "![Screen%20Shot%202022-01-15%20at%2013.34.38.png](attachment:Screen%20Shot%202022-01-15%20at%2013.34.38.png)\n",
    "\n",
    "where they consider 5 possibilities for the formation of black hole binaries: common envelop (CE), chemically omogenous stars (CHE), globular clusters (GC), nuclear star clusters (NSC) and stable mass transfer (SMT). \n",
    "\n",
    "If you want to know more about LIGO-driven astrophysics and black hole binaries formation channels, these are some recent reviews: [Mandel and Farmer (2021)](https://arxiv.org/abs/1806.05820), [Mapelli (2021)](https://arxiv.org/abs/2106.00699), [Gerosa and Fishbach (2021)](https://arxiv.org/abs/2105.03439).\n",
    "\n"
   ]
  },
  {
   "cell_type": "markdown",
   "metadata": {},
   "source": [
    "## Exercise instructions\n",
    "Some events form in different astrophysical environments than others. **You want to figure out how many of formation channels are at play.**\n",
    "\n",
    "\n",
    "The strategy here is to fit a Gaussian Mixture model: that is, my model is a sum of $N$ gaussians each with mean $\\mu_j$ and standard deviation $\\sigma_j$ and weight $\\alpha_j$:\n",
    "\n",
    "$p(x_i|\\theta) = \\sum_{j=1}^N \\alpha_j \\mathcal{N}(\\mu_j,\\sigma_j) $\n",
    "\n",
    "This depends on $3N-1$ parameters (not $3N$ because the sum of the $\\alpha_j$ must be unity to ensure that this is a probability.\n",
    "\n",
    "#### Tasks\n",
    "\n",
    "1) Load this file (`np.load`) and complete a quick exploration of the data. How many modes do you think you see? Anyway.  \n",
    "(LIGO measures the masses of many black holes. You can find the dataset at `solutions/formationchannels.npy`.)\n",
    "\n",
    "2) Take some time to explore `sklearn.mixture.GaussianMixture`. Check the documentation, some examples, the help menu, etc. You first need to define the model (instance of a class), and then train it on the data using the `fit` method (the data provided are already in the right numpy format!). This will output the trained model, which has various attributes.\n",
    "\n",
    "*Note*. We'll do a more formal introduction to scikit-learn in one of the next lectures. This is meant to be a formative example on how you might find yourself dealing with a library you've never seen before. This happens *all the time* in scientific research!\n",
    "\n",
    "3) Complete the fit 10 times with $N=1,...,10$ Gaussians. \n",
    "\n",
    "Note: `sklearn` by default will use the so-called [Expectation-Maximization algorithm](https://en.wikipedia.org/wiki/Expectation%E2%80%93maximization_algorithm), which is one of the many great things in data science we don't have time to study in detail.\n",
    "\n",
    "4) For each of this fits, compute the AIC (easy! It's a attribute of the trained model!). Plot $N$ vs AIC: which model is preferred?\n",
    "\n",
    "5) Plot the preferred solution on top of the input data. You should get a very nice fit!\n",
    "\n",
    "6) Understand (i.e. plot) which Gaussian mode corresponds to which part of the input dataset. \n",
    "\n",
    "*Hint:* Useful methods here are `score_samples` and `predict_proba`: you'll need them both. Try to understand what they do and how you can put them together.\n",
    "\n",
    "\n"
   ]
  },
  {
   "cell_type": "code",
   "execution_count": null,
   "metadata": {},
   "outputs": [],
   "source": [
    "import numpy as np\n",
    "from sklearn.mixture import GaussianMixture\n",
    "import matplotlib.pyplot as plt"
   ]
  },
  {
   "cell_type": "code",
   "execution_count": 17,
   "metadata": {},
   "outputs": [
    {
     "data": {
      "image/png": "[encoded data removed]",
      "text/plain": [
       "<Figure size 640x480 with 1 Axes>"
      ]
     },
     "metadata": {},
     "output_type": "display_data"
    }
   ],
   "source": [
    "data = np.load(\"../solutions/formationchannels.npy\")\n",
    "\n",
    "plt.hist(data, bins=100, density=False, color='b', edgecolor='black')\n",
    "\n",
    "plt.show()"
   ]
  }
 ],
 "metadata": {
  "kernelspec": {
   "display_name": "base",
   "language": "python",
   "name": "python3"
  },
  "language_info": {
   "codemirror_mode": {
    "name": "ipython",
    "version": 3
   },
   "file_extension": ".py",
   "mimetype": "text/x-python",
   "name": "python",
   "nbconvert_exporter": "python",
   "pygments_lexer": "ipython3",
   "version": "3.12.3"
  }
 },
 "nbformat": 4,
 "nbformat_minor": 2
}
